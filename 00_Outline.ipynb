{
 "cells": [
  {
   "cell_type": "markdown",
   "metadata": {},
   "source": [
    "# Lecture 1 : Course outline\n",
    "\n",
    "## Week by week outline \n",
    "1. Coordinates and time\n",
    "1. Telescopes\n",
    "1. Magnitude and photometry\n",
    "1. Atmosphere \n",
    "1. Radiation transport and solar limb darkening\n",
    "1. Color and spectroscopy\n",
    "1. Distance\n",
    "1. Solar system\n",
    "1. Solar system II \n",
    "1. Radio and other astronomy\n",
    "\n",
    "## Lecture by lecture outline\n",
    "1. Introduction and overview\n",
    "1. [Coordinates I](./01_Coordinates_I.ipynb)\n",
    "1. Coordinates II \n",
    "1. Time keeping\n",
    "1. [Optical telescopes I](./04_OpticalTelescopes_I.ipynb)\n",
    "1. Optical telescopes II \n",
    "1. Detectors\n",
    "1. Telescope systems\n",
    "1. Magnitudue, color indicies\n",
    "1. Photometry  \n",
    "1. Structure of atmosphere\n",
    "1. Refraction through atmosphere\n",
    "1. Extinction due to the atmosphere\n",
    "1. Radiation transport \n",
    "1. Solar limb darkening\n",
    "1. Blackbody radiation\n",
    "1. Color (filters)\n",
    "1. Spectroscopy \n",
    "1. Line broadening I\n",
    "1. Line broadening II\n",
    "1. Distance (solar system)\n",
    "1. Distance (beyond solar system) \n",
    "1. Introduction to solar system\n",
    "1. Formation of solar system\n",
    "1. Planetary geology (comets, asteroids)\n",
    "1. Tidal forces and planetary atmospheres\n",
    "1. Extrasolar planets\n",
    "1. Radio astronomy\n",
    "\n",
    "## Common themes \n",
    "1. Synthesis of different areas of physics/engineering/technology/mathematics\n",
    "1. Scientific method. Specifically uncertainties\n",
    "    * Observe\n",
    "    * Advance hypothesis \n",
    "    * Observe some more\n",
    "    * Test hypothesis (reject/refine)\n",
    "1. Quantative description. Estimation of order of magntitude\n",
    "\n",
    "## Practical tutorials \n",
    "1. Loading FITS files\n",
    "1. Basic image information (FITS header, pixel information)\n",
    "1. Plate scale\n",
    "1. Photometry\n"
   ]
  },
  {
   "cell_type": "code",
   "execution_count": null,
   "metadata": {},
   "outputs": [],
   "source": []
  }
 ],
 "metadata": {
  "kernelspec": {
   "display_name": "Python 2",
   "language": "python",
   "name": "python2"
  },
  "language_info": {
   "codemirror_mode": {
    "name": "ipython",
    "version": 2
   },
   "file_extension": ".py",
   "mimetype": "text/x-python",
   "name": "python",
   "nbconvert_exporter": "python",
   "pygments_lexer": "ipython2",
   "version": "2.7.14"
  }
 },
 "nbformat": 4,
 "nbformat_minor": 2
}
